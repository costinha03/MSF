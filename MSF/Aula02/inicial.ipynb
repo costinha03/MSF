{
 "cells": [
  {
   "cell_type": "code",
   "execution_count": 12,
   "metadata": {},
   "outputs": [
    {
     "data": {
      "text/plain": [
       "(2322.4,\n",
       " 0.010155051683894637,\n",
       " 0.05507544181393875,\n",
       " 0.9984571397353084,\n",
       " 0.00016296903598680005,\n",
       " 0.027130765543836442)"
      ]
     },
     "execution_count": 12,
     "metadata": {},
     "output_type": "execute_result"
    }
   ],
   "source": [
    "import numpy as np\n",
    "import matplotlib.pyplot as PLT\n",
    "\n",
    "L = np.array( [222.0 , 207.5, 194.0, 171.5 , 153.0 , 133.0 , 113.0 , 92.0])\n",
    "X = np.array([2.3 , 2.2 , 2.0 , 1.8 , 1.6 ,  1.4 , 1.2 , 1.0])\n",
    "\n",
    "\n",
    "def func1 (x, y):\n",
    "    \n",
    "    n = len(x)\n",
    "    totalxy = np.sum(x*y)\n",
    "    x_sqr = np.sum(x**2)\n",
    "    totalx = np.sum(x)\n",
    "   \n",
    "    xy = x*y\n",
    "    xx = x**2\n",
    "    yy = y**2\n",
    "\n",
    "    sx = x.sum()\n",
    "    sy = y.sum()\n",
    "    sxy = xy.sum()\n",
    "    sxx = xx.sum()\n",
    "    syy = yy.sum()\n",
    "    m = (n * totalxy - np.sum(x) * np.sum(y)) / (n * np.sum(x**2) - totalx**2)\n",
    "    b = ((x_sqr*np.sum(y))-(totalx*totalxy)) / (n*x_sqr - totalx**2)\n",
    "    r = (n*sxy - sx*sy)**2/((n*sxx - sx**2)*(n*syy - sy**2))\n",
    "    dm = abs(m) * (np.sqrt((1/r - 1)/(n-2)))\n",
    "    db = dm * np.sqrt(sxx/n)\n",
    "    return totalxy, m, b, r, dm, db\n",
    "    \n",
    "func1(L, X)\n",
    "\n"
   ]
  }
 ],
 "metadata": {
  "kernelspec": {
   "display_name": "Python 3",
   "language": "python",
   "name": "python3"
  },
  "language_info": {
   "codemirror_mode": {
    "name": "ipython",
    "version": 3
   },
   "file_extension": ".py",
   "mimetype": "text/x-python",
   "name": "python",
   "nbconvert_exporter": "python",
   "pygments_lexer": "ipython3",
   "version": "3.10.10"
  },
  "orig_nbformat": 4,
  "vscode": {
   "interpreter": {
    "hash": "7b1f2b33e866b0bf2409397e5f58ba9cdf170d3b7f64c8f359c79998e2f88ad4"
   }
  }
 },
 "nbformat": 4,
 "nbformat_minor": 2
}
