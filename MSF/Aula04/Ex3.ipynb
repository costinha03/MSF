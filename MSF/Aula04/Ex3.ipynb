{
 "cells": [
  {
   "cell_type": "code",
   "execution_count": 2,
   "metadata": {},
   "outputs": [
    {
     "name": "stdout",
     "output_type": "stream",
     "text": [
      "301\n",
      "29.497999999999912\n"
     ]
    }
   ],
   "source": [
    "#b\n",
    "\n",
    "import numpy as np\n",
    "\n",
    "#paraámetros\n",
    "dt=0.01 # passo de tempo\n",
    "t0=0\n",
    "tf=4.0\n",
    "y0=0\n",
    "vy0=0\n",
    "g=9.80\n",
    "x0 = 0\n",
    "#inicialização  \n",
    "n=int((tf-t0)/dt+0.1) # +0.1 para garantir não arredondar para baixo\n",
    "t=np.zeros(n+1) # n+1 elementos; último índice n\n",
    "y=np.zeros(n+1)\n",
    "vy=np.zeros(n+1)\n",
    "ay=np.zeros(n+1)\n",
    "x = np.zeros(n+1)\n",
    "vy[0]=vy0\n",
    "t[0]=t0\n",
    "x[0]=x0\n",
    "# Método de Euler (n+1 elementos)\n",
    "for i in range(n):\n",
    "    ay[i] = g # queda livre\n",
    "    y[i+1]=y[i]+vy[i]*dt\n",
    "    vy[i+1]=vy[i] + ay[i]*dt \n",
    "    t[i+1]=t[i]+dt\n",
    "\n",
    "i = np.where(t>=3)[0][0]\n",
    "print(i)\n",
    "print(vy[i])\n",
    "\n",
    "\n",
    "\n",
    "\n",
    "\n"
   ]
  },
  {
   "cell_type": "code",
   "execution_count": 61,
   "metadata": {},
   "outputs": [
    {
     "name": "stdout",
     "output_type": "stream",
     "text": [
      "Velocidade (t=3.0s) =  29.39999999999819\n",
      "Velocidade (t=3.0s) =  29.40979999999819\n"
     ]
    }
   ],
   "source": [
    "#c\n",
    "\n",
    "import numpy as np\n",
    "\n",
    "#paraámetros\n",
    "dt=0.001 #deltat\n",
    "t0=0\n",
    "tf=4.0\n",
    "y0=0\n",
    "vy0=0\n",
    "g=9.80\n",
    "x0 = 0\n",
    "#inicialização  \n",
    "n=int((tf-t0)/dt+0.1) # +0.1 para garantir não arredondar para baixo\n",
    "t=np.zeros(n+1) # n+1 elementos; último índice n\n",
    "y=np.zeros(n+1)\n",
    "vy=np.zeros(n+1)\n",
    "ay=np.zeros(n+1)\n",
    "\n",
    "vy[0]=vy0\n",
    "t[0]=t0\n",
    "y[0] = 0\n",
    "# Método de Euler (n+1 elementos)\n",
    "for i in range(n):\n",
    "    ay[i] = g # queda livre\n",
    "# (em geral pode ser qualquer função de x[i] e [i])\n",
    "    y[i+1]=y[i]+vy[i]*dt\n",
    "    vy[i+1]=vy[i] + ay[i]*dt \n",
    "    t[i+1]=t[i]+dt\n",
    "    \n",
    "for i in range(n-1):\n",
    "    if ((3 - dt) < t[i] < (3 + dt)):\n",
    "        print(\"Velocidade (t=3.0s) = \" , vy[i] )\n"
   ]
  },
  {
   "attachments": {},
   "cell_type": "markdown",
   "metadata": {},
   "source": [
    "d)\n",
    "\n",
    "O resultado exato é v=9.8*3= 29.4 m/s\n",
    "Foi obtido umo resultado mais próximo do exato para o dt mais pequeno."
   ]
  },
  {
   "cell_type": "code",
   "execution_count": 62,
   "metadata": {},
   "outputs": [
    {
     "name": "stdout",
     "output_type": "stream",
     "text": [
      "Posição (t=3.0s) =  19.306980000000028\n",
      "Posição (t=3.0s) =  19.502000000000027\n"
     ]
    }
   ],
   "source": [
    "#e\n",
    "\n",
    "import numpy as np\n",
    "\n",
    "#paraámetros\n",
    "dt=0.01 #deltat\n",
    "t0=0\n",
    "tf=3.0\n",
    "y0=0\n",
    "vy0=0\n",
    "g=9.80\n",
    "x0 = 0\n",
    "#inicialização  \n",
    "n=int((tf-t0)/dt+0.1) # +0.1 para garantir não arredondar para baixo\n",
    "t=np.zeros(n+1) # n+1 elementos; último índice n\n",
    "y=np.zeros(n+1)\n",
    "vy=np.zeros(n+1)\n",
    "ay=np.zeros(n+1)\n",
    "\n",
    "vy[0]=vy0\n",
    "t[0]=t0\n",
    "y[0] = 0\n",
    "# Método de Euler (n+1 elementos)\n",
    "for i in range(n):\n",
    "    ay[i] = g # queda livre\n",
    "# (em geral pode ser qualquer função de x[i] e [i])\n",
    "    y[i+1]=y[i]+vy[i]*dt\n",
    "    vy[i+1]=vy[i] + ay[i]*dt \n",
    "    t[i+1]=t[i]+dt\n",
    "    \n",
    "for i in range(n-1):\n",
    "    if ((2 - dt) < t[i] < (2 + dt)):\n",
    "        c1 = y[i]\n",
    "        print(\"Posição (t=3.0s) = \" , y[i] )\n"
   ]
  },
  {
   "cell_type": "code",
   "execution_count": 63,
   "metadata": {},
   "outputs": [
    {
     "name": "stdout",
     "output_type": "stream",
     "text": [
      "Posição (t=3.0s) =  19.590200000000138\n",
      "Posição (t=3.0s) =  19.60980000000014\n"
     ]
    }
   ],
   "source": [
    "#f\n",
    "\n",
    "import numpy as np\n",
    "\n",
    "#paraámetros\n",
    "dt=0.001 #deltat\n",
    "t0=0\n",
    "tf=3.0\n",
    "y0=0\n",
    "vy0=0\n",
    "g=9.80\n",
    "x0 = 0\n",
    "#inicialização  \n",
    "n=int((tf-t0)/dt+0.1) # +0.1 para garantir não arredondar para baixo\n",
    "t=np.zeros(n+1) # n+1 elementos; último índice n\n",
    "y=np.zeros(n+1)\n",
    "vy=np.zeros(n+1)\n",
    "ay=np.zeros(n+1)\n",
    "\n",
    "vy[0]=vy0\n",
    "t[0]=t0\n",
    "y[0] = 0\n",
    "# Método de Euler (n+1 elementos)\n",
    "for i in range(n):\n",
    "    ay[i] = g # queda livre\n",
    "# (em geral pode ser qualquer função de x[i] e [i])\n",
    "    y[i+1]=y[i]+vy[i]*dt\n",
    "    vy[i+1]=vy[i] + ay[i]*dt \n",
    "    t[i+1]=t[i]+dt\n",
    "    \n",
    "for i in range(n-1):\n",
    "    if ((2 - dt) < t[i] < (2 + dt)):\n",
    "        c2 = y[i]\n",
    "        print(\"Posição (t=3.0s) = \" , y[i] )\n"
   ]
  },
  {
   "attachments": {},
   "cell_type": "markdown",
   "metadata": {},
   "source": [
    "g \n",
    "\n",
    "O resultado exato é dado por y = 0.5 * 9.81 * 2^2 = 19.62\n",
    "Foi obtido umo resultado mais próximo do exato para o dt mais pequeno."
   ]
  },
  {
   "cell_type": "code",
   "execution_count": 82,
   "metadata": {},
   "outputs": [
    {
     "data": {
      "text/plain": [
       "<matplotlib.legend.Legend at 0x1aeb4d3ca30>"
      ]
     },
     "execution_count": 82,
     "metadata": {},
     "output_type": "execute_result"
    },
    {
     "data": {
      "image/png": "[encoded data removed]",
      "text/plain": [
       "<Figure size 640x480 with 1 Axes>"
      ]
     },
     "metadata": {},
     "output_type": "display_data"
    }
   ],
   "source": [
    "#h\n",
    "\n",
    "\n",
    "import matplotlib.pyplot as mp\n",
    "import numpy as np\n",
    "def eulerMethod(dt, t0, tf, v0, y0, calc):\n",
    "\n",
    "    n=int((tf-t0)/dt+0.1)\n",
    "    t=np.zeros(n+1) \n",
    "    y=np.zeros(n+1)\n",
    "    v=np.zeros(n+1)\n",
    "    a=np.zeros(n+1)\n",
    "    v[0]= v0\n",
    "    t[0]= t0\n",
    "    y[0] = y0\n",
    "    g=9.80\n",
    "    for i in range(n):\n",
    "        a[i] = g # queda livre\n",
    "        y[i+1]=y[i]+v[i]*dt\n",
    "        v[i+1]=v[i] + a[i]*dt \n",
    "        t[i+1]=t[i]+dt\n",
    "    \n",
    "\n",
    "    \n",
    "    return t, v, y, a\n",
    "\n",
    "\n",
    "\n",
    "\n",
    "t1, v1, y1, a1 = eulerMethod(0.1, 0, 3, 0, 0, 2)\n",
    "t2, v2, y2, a2 = eulerMethod(0.01, 0, 3, 0, 0, 2)\n",
    "\n",
    "t_exat =np.linspace(0,3,100)\n",
    "\n",
    "exat = 9.8*0.5*t_exat**2\n",
    "\n",
    "mp.plot(t1, y1, '+' , label = \"Euler com dt = 0.01\")\n",
    "mp.plot(t2, y2, '-', label = \"Euler com dt = 0.001\")\n",
    "mp.plot(t_exat, exat, label=\"exato\")\n",
    "mp.xlabel(\"t(s)\")\n",
    "mp.ylabel(\"y(m)\")\n",
    "mp.legend()\n",
    "\n",
    "\n",
    "\n",
    "\n",
    "\n"
   ]
  }
 ],
 "metadata": {
  "kernelspec": {
   "display_name": "Python 3",
   "language": "python",
   "name": "python3"
  },
  "language_info": {
   "codemirror_mode": {
    "name": "ipython",
    "version": 3
   },
   "file_extension": ".py",
   "mimetype": "text/x-python",
   "name": "python",
   "nbconvert_exporter": "python",
   "pygments_lexer": "ipython3",
   "version": "3.10.11"
  },
  "orig_nbformat": 4
 },
 "nbformat": 4,
 "nbformat_minor": 2
}
