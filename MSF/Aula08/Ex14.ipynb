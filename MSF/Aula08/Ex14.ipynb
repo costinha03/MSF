{
 "cells": [
  {
   "cell_type": "code",
   "execution_count": 5,
   "metadata": {},
   "outputs": [
    {
     "name": "stdout",
     "output_type": "stream",
     "text": [
      "Potência:  120.203 W =  0.156  cv\n"
     ]
    }
   ],
   "source": [
    "import numpy as np\n",
    "import matplotlib.pyplot as plt\n",
    "\n",
    "v = 30/3.6\n",
    "m = 75\n",
    "Cres = 0.9\n",
    "A = 0.3\n",
    "p = 1.225\n",
    "u = 0.004\n",
    "g = 9.8\n",
    "vx = v\n",
    "\n",
    "P = u*m*g*v + (Cres/2)*A*p*(v**2)*vx\n",
    "print(\"Potência: \", round(P,3), \"W = \", round(P*0.0013,3), \" cv\")"
   ]
  }
 ],
 "metadata": {
  "kernelspec": {
   "display_name": "Python 3",
   "language": "python",
   "name": "python3"
  },
  "language_info": {
   "codemirror_mode": {
    "name": "ipython",
    "version": 3
   },
   "file_extension": ".py",
   "mimetype": "text/x-python",
   "name": "python",
   "nbconvert_exporter": "python",
   "pygments_lexer": "ipython3",
   "version": "3.10.11"
  },
  "orig_nbformat": 4
 },
 "nbformat": 4,
 "nbformat_minor": 2
}
