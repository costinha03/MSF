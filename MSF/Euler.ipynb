{
 "cells": [
  {
   "cell_type": "code",
   "execution_count": null,
   "metadata": {},
   "outputs": [],
   "source": [
    "import numpy as np\n",
    "import matplotlib.pyplot as plt\n",
    "\n",
    "\n",
    "def euler_ciclista(t0,tf,v0x,x0,w,dt,Cres,Pot):  # w é angulo que pode aparecer em alguns exs\n",
    "\n",
    "    g = 9.8\n",
    "\n",
    "    n = int((tf-t0)/dt+0.1)\n",
    "    t = np.zeros(n+1)\n",
    "    x = np.zeros(n+1)\n",
    "    vx = np.zeros(n+1)\n",
    "    ax = np.zeros(n+1)\n",
    "\n",
    "    x[0]  = x0\n",
    "    vx[0] = v0x\n",
    "    t[0] = t0\n",
    "\n",
    "    p_ar = 1.225  #densidade do ar\n",
    "    coef_u = 0.004\n",
    "    m = 75 #massa ciclista-bicicleta\n",
    "    cRes = 0.9 #Coeficiente da res ar\n",
    "    A = 0.3 # Área frontal\n",
    "\n",
    "    for i in range(n):\n",
    "        ax[i] = Pot / (m * vx[i]) - g * np.sin(w) - Cres /(2*m)*A*p_ar*vx[i]*vx[i]-coef_u*g #slide38\n",
    "        vx[i+1] = vx[i]+ax[i]*dt\n",
    "        x[i+1] = x[i] + vx[i] * dt\n",
    "        t[i+1] = t[i]+dt\n",
    "    return t,x,vx,ax\n"
   ]
  }
 ],
 "metadata": {
  "language_info": {
   "name": "python"
  },
  "orig_nbformat": 4
 },
 "nbformat": 4,
 "nbformat_minor": 2
}
